{
 "cells": [
  {
   "cell_type": "code",
   "execution_count": 3,
   "metadata": {},
   "outputs": [],
   "source": [
    "import pandas as pd"
   ]
  },
  {
   "attachments": {},
   "cell_type": "markdown",
   "metadata": {},
   "source": [
    "BAB I: Statistik dan Agregasi"
   ]
  },
  {
   "cell_type": "code",
   "execution_count": 5,
   "metadata": {},
   "outputs": [],
   "source": [
    "data = pd.read_csv(\"ECommerce.csv\", delimiter = ';')"
   ]
  },
  {
   "cell_type": "code",
   "execution_count": 6,
   "metadata": {},
   "outputs": [
    {
     "name": "stdout",
     "output_type": "stream",
     "text": [
      "nama-pelanggan      53\n",
      "tanggal-pesanan     52\n",
      "nama-pabrik         52\n",
      "kota-pelanggan      52\n",
      "kategori-barang     52\n",
      "ID-pembelian        52\n",
      "kuantitas-barang    53\n",
      "dtype: int64 \n",
      "\n",
      "Data yang dimasukkan memiliki jumlah sebanyak 53 baris.\n",
      "\n",
      "Total kuantitas barang yang terjual sebanyak 514 buah.\n",
      "\n",
      "Rerata pelanggan membeli barang sebanyak 9 buah.\n",
      "\n",
      "Maksimal pembelian dari pelanggan sebesar 257 buah.\n",
      "\n",
      "Maksimal pembelian dari pelanggan sebesar 1 buah.\n",
      "\n",
      "Simpangan baku dari data pembelian tersebut adalah 34 \n",
      "\n",
      "Berikut perhitungan data dari masing-masing operasi:\n",
      "        kuantitas-barang\n",
      "count         53.000000\n",
      "mean           9.698113\n",
      "std           34.700136\n",
      "min            1.000000\n",
      "25%            3.000000\n",
      "50%            5.000000\n",
      "75%            7.000000\n",
      "max          257.000000 \n",
      "\n"
     ]
    }
   ],
   "source": [
    "print(data.count(), \"\\n\")\n",
    "print(\"Data yang dimasukkan memiliki jumlah sebanyak\", len(data), \"baris.\\n\")\n",
    "\n",
    "total_kuantitas = data['kuantitas-barang'].sum()\n",
    "print(\"Total kuantitas barang yang terjual sebanyak\", total_kuantitas, \"buah.\\n\")\n",
    "\n",
    "rerata_kuantitas = data['kuantitas-barang'].mean()\n",
    "print(\"Rerata pelanggan membeli barang sebanyak\", int(rerata_kuantitas), \"buah.\\n\")\n",
    "\n",
    "maksimum_pembelian = data['kuantitas-barang'].max()\n",
    "print(\"Maksimal pembelian dari pelanggan sebesar\", maksimum_pembelian, \"buah.\\n\")\n",
    "\n",
    "minimum_pembelian = data['kuantitas-barang'].min()\n",
    "print(\"Maksimal pembelian dari pelanggan sebesar\", minimum_pembelian, \"buah.\\n\")\n",
    "\n",
    "standar_pembelian = data['kuantitas-barang'].std()\n",
    "print(\"Simpangan baku dari data pembelian tersebut adalah\", int(standar_pembelian), \"\\n\")\n",
    "\n",
    "print(\"Berikut perhitungan data dari masing-masing operasi:\\n\", data.describe(), '\\n')"
   ]
  },
  {
   "attachments": {},
   "cell_type": "markdown",
   "metadata": {},
   "source": [
    "BAB II: Operasi String"
   ]
  },
  {
   "cell_type": "code",
   "execution_count": null,
   "metadata": {},
   "outputs": [],
   "source": [
    "\n",
    "print(\"Mengubah nama-pelanggan menjadi huruf besar semua:\")\n",
    "data['nama-pelanggan'] = data['nama-pelanggan'].str.upper()\n",
    "print(data.head())"
   ]
  },
  {
   "cell_type": "code",
   "execution_count": null,
   "metadata": {},
   "outputs": [],
   "source": [
    "print(\"\\nMengubah kota-pelanggan menjadi sebuah kode:\")\n",
    "kode_kota = {'Surabaya': '1', 'Jakarta': '2', 'Medan': '3', 'Yogyakarta': '4', 'Semarang': '5'}\n",
    "data['kota-pelanggan'] = data['kota-pelanggan'].replace(kode_kota)\n",
    "print( data.head())"
   ]
  },
  {
   "cell_type": "code",
   "execution_count": null,
   "metadata": {},
   "outputs": [],
   "source": [
    "print(\"\\nMengubah nama-pelanggan menjadi huruf kalimat:\")\n",
    "data['nama-pelanggan'] = data['nama-pelanggan'].str.title()\n",
    "print(data.head())"
   ]
  },
  {
   "cell_type": "code",
   "execution_count": null,
   "metadata": {},
   "outputs": [],
   "source": [
    "print(\"\\nMengembalikan kode menjadi kota-pelanggan:\")\n",
    "kode_kota = {'1': 'Surabaya', '2': 'Jakarta', '3': 'Medan', '4': 'Yogyakarta', '5': 'Semarang'}\n",
    "data['kota-pelanggan'] = data['kota-pelanggan'].replace(kode_kota)\n",
    "print(data.head())"
   ]
  }
 ],
 "metadata": {
  "kernelspec": {
   "display_name": "Python 3",
   "language": "python",
   "name": "python3"
  },
  "language_info": {
   "codemirror_mode": {
    "name": "ipython",
    "version": 3
   },
   "file_extension": ".py",
   "mimetype": "text/x-python",
   "name": "python",
   "nbconvert_exporter": "python",
   "pygments_lexer": "ipython3",
   "version": "3.11.5"
  },
  "orig_nbformat": 4
 },
 "nbformat": 4,
 "nbformat_minor": 2
}
