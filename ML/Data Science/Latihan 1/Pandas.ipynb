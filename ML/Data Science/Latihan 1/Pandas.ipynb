{
 "cells": [
  {
   "cell_type": "code",
   "execution_count": null,
   "metadata": {},
   "outputs": [],
   "source": [
    "import pandas as pd"
   ]
  },
  {
   "cell_type": "code",
   "execution_count": null,
   "metadata": {},
   "outputs": [],
   "source": [
    "print(33*'-')\n",
    "print(\"| BAB I: Statistik dan Agregasi |\")\n",
    "print(33*'-', '\\n')\n",
    "data = pd.read_csv(\"Statistika.csv\", delimiter = ';')\n",
    "\n",
    "print(data.count(), \"\\n\")\n",
    "print(\"Data yang dimasukkan memiliki jumlah sebanyak\", len(data), \"baris.\\n\")\n",
    "\n",
    "total_kuantitas = data['kuantitas-barang'].sum()\n",
    "print(\"Total kuantitas barang yang terjual sebanyak\", total_kuantitas, \"buah.\\n\")\n",
    "\n",
    "rerata_kuantitas = data['kuantitas-barang'].mean()\n",
    "print(\"Rerata pelanggan membeli barang sebanyak\", int(rerata_kuantitas), \"buah.\\n\")\n",
    "\n",
    "maksimum_pembelian = data['kuantitas-barang'].max()\n",
    "print(\"Maksimal pembelian dari pelanggan sebesar\", maksimum_pembelian, \"buah.\\n\")\n",
    "\n",
    "minimum_pembelian = data['kuantitas-barang'].min()\n",
    "print(\"Maksimal pembelian dari pelanggan sebesar\", minimum_pembelian, \"buah.\\n\")\n",
    "\n",
    "standar_pembelian = data['kuantitas-barang'].std()\n",
    "print(\"Simpangan baku dari data pembelian tersebut adalah\", int(standar_pembelian), \"\\n\")\n",
    "\n",
    "print(\"Berikut perhitungan data dari masing-masing operasi:\\n\", data.describe(), '\\n')\n",
    "\n",
    "print(26*'-')\n",
    "print(\"| BAB II: Operasi String |\")\n",
    "print(26*'-', '\\n')\n",
    "\n",
    "print(\"Mengubah nama-pelanggan menjadi huruf besar semua:\")\n",
    "data['nama-pelanggan'] = data['nama-pelanggan'].str.upper()\n",
    "print(data.head())\n",
    "\n",
    "print(\"\\nMengubah kota-pelanggan menjadi sebuah kode:\")\n",
    "kode_kota = {'Surabaya': '1', 'Jakarta': '2', 'Medan': '3', 'Yogyakarta': '4', 'Semarang': '5'}\n",
    "data['kota-pelanggan'] = data['kota-pelanggan'].replace(kode_kota)\n",
    "print( data.head())\n",
    "\n",
    "print(\"\\nMengubah nama-pelanggan menjadi huruf kalimat:\")\n",
    "data['nama-pelanggan'] = data['nama-pelanggan'].str.title()\n",
    "print(data.head())\n",
    "\n",
    "print(\"\\nMengembalikan kode menjadi kota-pelanggan:\")\n",
    "kode_kota = {'1': 'Surabaya', '2': 'Jakarta', '3': 'Medan', '4': 'Yogyakarta', '5': 'Semarang'}\n",
    "data['kota-pelanggan'] = data['kota-pelanggan'].replace(kode_kota)\n",
    "print(data.head())"
   ]
  }
 ],
 "metadata": {
  "language_info": {
   "name": "python"
  },
  "orig_nbformat": 4
 },
 "nbformat": 4,
 "nbformat_minor": 2
}
