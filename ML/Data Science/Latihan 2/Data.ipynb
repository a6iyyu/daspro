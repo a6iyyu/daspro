{
 "cells": [
  {
   "cell_type": "code",
   "execution_count": 1,
   "metadata": {},
   "outputs": [],
   "source": [
    "import pandas as pd"
   ]
  },
  {
   "cell_type": "code",
   "execution_count": 3,
   "metadata": {},
   "outputs": [
    {
     "name": "stdout",
     "output_type": "stream",
     "text": [
      "   Id      Name  Year Gender State  Count\n",
      "0   1      Mary  1910      F    AK     14\n",
      "1   2     Annie  1910      F    AK     12\n",
      "2   3      Anna  1910      F    AK     10\n",
      "3   4  Margaret  1910      F    AK      8\n",
      "4   5     Helen  1910      F    AK      7\n"
     ]
    }
   ],
   "source": [
    "data = pd.read_csv(\"StateNames.csv\")\n",
    "print(data.head(5))"
   ]
  }
 ],
 "metadata": {
  "kernelspec": {
   "display_name": "Python 3",
   "language": "python",
   "name": "python3"
  },
  "language_info": {
   "codemirror_mode": {
    "name": "ipython",
    "version": 3
   },
   "file_extension": ".py",
   "mimetype": "text/x-python",
   "name": "python",
   "nbconvert_exporter": "python",
   "pygments_lexer": "ipython3",
   "version": "3.11.5"
  },
  "orig_nbformat": 4
 },
 "nbformat": 4,
 "nbformat_minor": 2
}
