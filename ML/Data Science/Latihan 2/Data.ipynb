{
 "cells": [
  {
   "cell_type": "code",
   "execution_count": 1,
   "metadata": {},
   "outputs": [],
   "source": [
    "import pandas as pd"
   ]
  },
  {
   "attachments": {},
   "cell_type": "markdown",
   "metadata": {},
   "source": [
    "EN: Are some states trendsetters? That is, the naming pattern they have get adopted by other states?\n",
    "\n",
    "IN: Apakah beberapa negara bagian menjadi trendsetter? Artinya, pola penamaan yang mereka miliki diadopsi oleh negara bagian lain?"
   ]
  },
  {
   "cell_type": "code",
   "execution_count": 2,
   "metadata": {},
   "outputs": [
    {
     "name": "stdout",
     "output_type": "stream",
     "text": [
      "  Id,Name,Year,Gender,Count\n",
      "0        1,Mary,1880,F,7065\n",
      "1        2,Anna,1880,F,2604\n",
      "2        3,Emma,1880,F,2003\n",
      "3   4,Elizabeth,1880,F,1939\n",
      "4      5,Minnie,1880,F,1746\n"
     ]
    }
   ],
   "source": [
    "national_names = pd.read_csv(\"NationalNames.csv\", delimiter=\";\")\n",
    "print(national_names.head(5))"
   ]
  },
  {
   "cell_type": "code",
   "execution_count": 3,
   "metadata": {},
   "outputs": [
    {
     "name": "stdout",
     "output_type": "stream",
     "text": [
      "  Id,Name,Year,Gender,State,Count\n",
      "0             1,Mary,1910,F,AK,14\n",
      "1            2,Annie,1910,F,AK,12\n",
      "2             3,Anna,1910,F,AK,10\n",
      "3          4,Margaret,1910,F,AK,8\n",
      "4             5,Helen,1910,F,AK,7\n"
     ]
    }
   ],
   "source": [
    "state_names = pd.read_csv(\"StateNames.csv\", delimiter=\";\")\n",
    "print(state_names.head(5))"
   ]
  }
 ],
 "metadata": {
  "kernelspec": {
   "display_name": "Python 3",
   "language": "python",
   "name": "python3"
  },
  "language_info": {
   "codemirror_mode": {
    "name": "ipython",
    "version": 3
   },
   "file_extension": ".py",
   "mimetype": "text/x-python",
   "name": "python",
   "nbconvert_exporter": "python",
   "pygments_lexer": "ipython3",
   "version": "3.11.5"
  },
  "orig_nbformat": 4
 },
 "nbformat": 4,
 "nbformat_minor": 2
}
